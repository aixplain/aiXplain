{
 "cells": [
  {
   "attachments": {},
   "cell_type": "markdown",
   "metadata": {},
   "source": [
    "# Dataset Onboarding\n",
    "\n",
    "This notebook demonstrates how to onboard a dataset into aiXplain platform using its SDK.\n",
    "\n",
    "If you saw the tutorial about onboard a corpus into our platform [here](/docs/samples/corpus_onboarding/corpus_onboarding.ipynb), you may be asking what is the difference between a **dataset** and a **corpus**. Basically speaking, a corpus is a general-purpose collection of data, which can be used for exploratory reasons or when you do not know exactly how to use it. With this kind of collection, you may use its data as input to models and pipelines in our platform as well as to derive new data and datasets. For instance, let's say you have a collection of English audios you would like to transcribe and translate to another language. If you build a pipeline in aiXplain to do the work, you can group your collection of audios into a corpus and fed them directly to the pipeline instead of calling the pipeline for each audio.\n",
    "\n",
    "On the other hand, different from corpus, a dataset is a representative sample of a specific phenomenon to a specific AI task. In aiXplain, datasets are specially created for each AI function we support, such as Translation, Speech Recognition, Topic Classification and so on. When you onboard a dataset in aiXplain, you must set not only an AI function, but which data is the input and output of this function. Let's see in practice!"
   ]
  },
  {
   "attachments": {},
   "cell_type": "markdown",
   "metadata": {},
   "source": [
    "## Credentials\n",
    "\n",
    "To use the aiXplain SDK, you may be registered in our platform and have an API key. The step-by-step on how to do it is better described [here](/docs/user/api_setup.md)."
   ]
  },
  {
   "cell_type": "code",
   "execution_count": 1,
   "metadata": {},
   "outputs": [],
   "source": [
    "import os\n",
    "\n",
    "os.environ[\"TEAM_API_KEY\"] = \"YOUR_TEAM_API_KEY_HERE\""
   ]
  },
  {
   "attachments": {},
   "cell_type": "markdown",
   "metadata": {},
   "source": [
    "## Data\n",
    "\n",
    "In this example we will show how to onboard a dataset to be used in the Speech Recognition task. To onboard it, the data needs to be depicted in a CSV file, which will be fed to the SDK. \n",
    "\n",
    "Our example dataset consists of 20 English audios with their corresponding transcriptions which will be used as input and output data, respectively. Since the audios consist of the same part of the conversation, the column `audio` contains the link to the original audio, whereas the columns `audio_start_time` and `audio_end_time` consists of the start and end seconds of that particular segment in the audio, respectively. If you already have the audio segments, these could be depicted in the `audio` column, whereas the columns `audio_start_time` and `audio_end_time` could be discarded. The segment transcriptions are depicted in the column `text` of the CSV file as can be seen below.\n",
    "\n",
    "Something important in AI datasets is the train, validation and test set splits. Although it is not required, you may add a column in your CSVs similar to the `split` one to segment your dataset into these sets. Just make sure the values for this column is constrained to **TRAIN**, **VALIDATION** or **TEST**."
   ]
  },
  {
   "cell_type": "code",
   "execution_count": 2,
   "metadata": {},
   "outputs": [
    {
     "data": {
      "text/html": [
       "<div>\n",
       "<style scoped>\n",
       "    .dataframe tbody tr th:only-of-type {\n",
       "        vertical-align: middle;\n",
       "    }\n",
       "\n",
       "    .dataframe tbody tr th {\n",
       "        vertical-align: top;\n",
       "    }\n",
       "\n",
       "    .dataframe thead th {\n",
       "        text-align: right;\n",
       "    }\n",
       "</style>\n",
       "<table border=\"1\" class=\"dataframe\">\n",
       "  <thead>\n",
       "    <tr style=\"text-align: right;\">\n",
       "      <th></th>\n",
       "      <th>audio</th>\n",
       "      <th>text</th>\n",
       "      <th>audio_start_time</th>\n",
       "      <th>audio_end_time</th>\n",
       "      <th>split</th>\n",
       "    </tr>\n",
       "  </thead>\n",
       "  <tbody>\n",
       "    <tr>\n",
       "      <th>0</th>\n",
       "      <td>https://aixplain-platform-assets.s3.amazonaws....</td>\n",
       "      <td>Welcome to another episode of Explain using di...</td>\n",
       "      <td>0.90</td>\n",
       "      <td>6.56</td>\n",
       "      <td>TRAIN</td>\n",
       "    </tr>\n",
       "    <tr>\n",
       "      <th>1</th>\n",
       "      <td>https://aixplain-platform-assets.s3.amazonaws....</td>\n",
       "      <td>Discover allows you to use natural language in...</td>\n",
       "      <td>7.53</td>\n",
       "      <td>15.12</td>\n",
       "      <td>TRAIN</td>\n",
       "    </tr>\n",
       "    <tr>\n",
       "      <th>2</th>\n",
       "      <td>https://aixplain-platform-assets.s3.amazonaws....</td>\n",
       "      <td>In this demo I'm going to focus on an Arabic t...</td>\n",
       "      <td>15.93</td>\n",
       "      <td>20.29</td>\n",
       "      <td>TRAIN</td>\n",
       "    </tr>\n",
       "    <tr>\n",
       "      <th>3</th>\n",
       "      <td>https://aixplain-platform-assets.s3.amazonaws....</td>\n",
       "      <td>We can see here that there are currently 4 pro...</td>\n",
       "      <td>21.60</td>\n",
       "      <td>25.62</td>\n",
       "      <td>TRAIN</td>\n",
       "    </tr>\n",
       "    <tr>\n",
       "      <th>4</th>\n",
       "      <td>https://aixplain-platform-assets.s3.amazonaws....</td>\n",
       "      <td>We can click on the information icon to review...</td>\n",
       "      <td>26.75</td>\n",
       "      <td>30.05</td>\n",
       "      <td>TRAIN</td>\n",
       "    </tr>\n",
       "    <tr>\n",
       "      <th>5</th>\n",
       "      <td>https://aixplain-platform-assets.s3.amazonaws....</td>\n",
       "      <td>In this case, we can see that the provider of ...</td>\n",
       "      <td>31.50</td>\n",
       "      <td>37.32</td>\n",
       "      <td>TRAIN</td>\n",
       "    </tr>\n",
       "    <tr>\n",
       "      <th>6</th>\n",
       "      <td>https://aixplain-platform-assets.s3.amazonaws....</td>\n",
       "      <td>I could enable this model from here, but first...</td>\n",
       "      <td>38.56</td>\n",
       "      <td>45.01</td>\n",
       "      <td>TRAIN</td>\n",
       "    </tr>\n",
       "    <tr>\n",
       "      <th>7</th>\n",
       "      <td>https://aixplain-platform-assets.s3.amazonaws....</td>\n",
       "      <td>I'm going to select one model from each of the...</td>\n",
       "      <td>46.32</td>\n",
       "      <td>49.69</td>\n",
       "      <td>TRAIN</td>\n",
       "    </tr>\n",
       "    <tr>\n",
       "      <th>8</th>\n",
       "      <td>https://aixplain-platform-assets.s3.amazonaws....</td>\n",
       "      <td>You'll notice that our benchmarking function a...</td>\n",
       "      <td>50.60</td>\n",
       "      <td>55.69</td>\n",
       "      <td>TRAIN</td>\n",
       "    </tr>\n",
       "    <tr>\n",
       "      <th>9</th>\n",
       "      <td>https://aixplain-platform-assets.s3.amazonaws....</td>\n",
       "      <td>All I need to do is provide an Arabic data sam...</td>\n",
       "      <td>57.06</td>\n",
       "      <td>60.53</td>\n",
       "      <td>TRAIN</td>\n",
       "    </tr>\n",
       "    <tr>\n",
       "      <th>10</th>\n",
       "      <td>https://aixplain-platform-assets.s3.amazonaws....</td>\n",
       "      <td>You'll notice the benchmarking times can vary ...</td>\n",
       "      <td>62.52</td>\n",
       "      <td>67.49</td>\n",
       "      <td>VALIDATION</td>\n",
       "    </tr>\n",
       "    <tr>\n",
       "      <th>11</th>\n",
       "      <td>https://aixplain-platform-assets.s3.amazonaws....</td>\n",
       "      <td>And here we go. I can now see comparison sampl...</td>\n",
       "      <td>68.43</td>\n",
       "      <td>77.46</td>\n",
       "      <td>VALIDATION</td>\n",
       "    </tr>\n",
       "    <tr>\n",
       "      <th>12</th>\n",
       "      <td>https://aixplain-platform-assets.s3.amazonaws....</td>\n",
       "      <td>In this case I'm going to focus on class score...</td>\n",
       "      <td>78.25</td>\n",
       "      <td>85.82</td>\n",
       "      <td>VALIDATION</td>\n",
       "    </tr>\n",
       "    <tr>\n",
       "      <th>13</th>\n",
       "      <td>https://aixplain-platform-assets.s3.amazonaws....</td>\n",
       "      <td>This looks like the perfect model match for my...</td>\n",
       "      <td>86.95</td>\n",
       "      <td>91.47</td>\n",
       "      <td>VALIDATION</td>\n",
       "    </tr>\n",
       "    <tr>\n",
       "      <th>14</th>\n",
       "      <td>https://aixplain-platform-assets.s3.amazonaws....</td>\n",
       "      <td>You'll notice a heads up display here that our...</td>\n",
       "      <td>92.54</td>\n",
       "      <td>96.42</td>\n",
       "      <td>VALIDATION</td>\n",
       "    </tr>\n",
       "    <tr>\n",
       "      <th>15</th>\n",
       "      <td>https://aixplain-platform-assets.s3.amazonaws....</td>\n",
       "      <td>And there it is.</td>\n",
       "      <td>97.48</td>\n",
       "      <td>98.21</td>\n",
       "      <td>TEST</td>\n",
       "    </tr>\n",
       "    <tr>\n",
       "      <th>16</th>\n",
       "      <td>https://aixplain-platform-assets.s3.amazonaws....</td>\n",
       "      <td>OK, let's click the setting gear icon in our m...</td>\n",
       "      <td>98.85</td>\n",
       "      <td>103.58</td>\n",
       "      <td>TEST</td>\n",
       "    </tr>\n",
       "    <tr>\n",
       "      <th>17</th>\n",
       "      <td>https://aixplain-platform-assets.s3.amazonaws....</td>\n",
       "      <td>Here you'll find your model endpoint, a URL wh...</td>\n",
       "      <td>104.28</td>\n",
       "      <td>110.00</td>\n",
       "      <td>TEST</td>\n",
       "    </tr>\n",
       "    <tr>\n",
       "      <th>18</th>\n",
       "      <td>https://aixplain-platform-assets.s3.amazonaws....</td>\n",
       "      <td>An API key to authenticate your model access. ...</td>\n",
       "      <td>110.91</td>\n",
       "      <td>119.35</td>\n",
       "      <td>TEST</td>\n",
       "    </tr>\n",
       "    <tr>\n",
       "      <th>19</th>\n",
       "      <td>https://aixplain-platform-assets.s3.amazonaws....</td>\n",
       "      <td>As a member, you'll have full access to all of...</td>\n",
       "      <td>120.59</td>\n",
       "      <td>127.90</td>\n",
       "      <td>TEST</td>\n",
       "    </tr>\n",
       "  </tbody>\n",
       "</table>\n",
       "</div>"
      ],
      "text/plain": [
       "                                                audio  \\\n",
       "0   https://aixplain-platform-assets.s3.amazonaws....   \n",
       "1   https://aixplain-platform-assets.s3.amazonaws....   \n",
       "2   https://aixplain-platform-assets.s3.amazonaws....   \n",
       "3   https://aixplain-platform-assets.s3.amazonaws....   \n",
       "4   https://aixplain-platform-assets.s3.amazonaws....   \n",
       "5   https://aixplain-platform-assets.s3.amazonaws....   \n",
       "6   https://aixplain-platform-assets.s3.amazonaws....   \n",
       "7   https://aixplain-platform-assets.s3.amazonaws....   \n",
       "8   https://aixplain-platform-assets.s3.amazonaws....   \n",
       "9   https://aixplain-platform-assets.s3.amazonaws....   \n",
       "10  https://aixplain-platform-assets.s3.amazonaws....   \n",
       "11  https://aixplain-platform-assets.s3.amazonaws....   \n",
       "12  https://aixplain-platform-assets.s3.amazonaws....   \n",
       "13  https://aixplain-platform-assets.s3.amazonaws....   \n",
       "14  https://aixplain-platform-assets.s3.amazonaws....   \n",
       "15  https://aixplain-platform-assets.s3.amazonaws....   \n",
       "16  https://aixplain-platform-assets.s3.amazonaws....   \n",
       "17  https://aixplain-platform-assets.s3.amazonaws....   \n",
       "18  https://aixplain-platform-assets.s3.amazonaws....   \n",
       "19  https://aixplain-platform-assets.s3.amazonaws....   \n",
       "\n",
       "                                                 text  audio_start_time  \\\n",
       "0   Welcome to another episode of Explain using di...              0.90   \n",
       "1   Discover allows you to use natural language in...              7.53   \n",
       "2   In this demo I'm going to focus on an Arabic t...             15.93   \n",
       "3   We can see here that there are currently 4 pro...             21.60   \n",
       "4   We can click on the information icon to review...             26.75   \n",
       "5   In this case, we can see that the provider of ...             31.50   \n",
       "6   I could enable this model from here, but first...             38.56   \n",
       "7   I'm going to select one model from each of the...             46.32   \n",
       "8   You'll notice that our benchmarking function a...             50.60   \n",
       "9   All I need to do is provide an Arabic data sam...             57.06   \n",
       "10  You'll notice the benchmarking times can vary ...             62.52   \n",
       "11  And here we go. I can now see comparison sampl...             68.43   \n",
       "12  In this case I'm going to focus on class score...             78.25   \n",
       "13  This looks like the perfect model match for my...             86.95   \n",
       "14  You'll notice a heads up display here that our...             92.54   \n",
       "15                                   And there it is.             97.48   \n",
       "16  OK, let's click the setting gear icon in our m...             98.85   \n",
       "17  Here you'll find your model endpoint, a URL wh...            104.28   \n",
       "18  An API key to authenticate your model access. ...            110.91   \n",
       "19  As a member, you'll have full access to all of...            120.59   \n",
       "\n",
       "    audio_end_time       split  \n",
       "0             6.56       TRAIN  \n",
       "1            15.12       TRAIN  \n",
       "2            20.29       TRAIN  \n",
       "3            25.62       TRAIN  \n",
       "4            30.05       TRAIN  \n",
       "5            37.32       TRAIN  \n",
       "6            45.01       TRAIN  \n",
       "7            49.69       TRAIN  \n",
       "8            55.69       TRAIN  \n",
       "9            60.53       TRAIN  \n",
       "10           67.49  VALIDATION  \n",
       "11           77.46  VALIDATION  \n",
       "12           85.82  VALIDATION  \n",
       "13           91.47  VALIDATION  \n",
       "14           96.42  VALIDATION  \n",
       "15           98.21        TEST  \n",
       "16          103.58        TEST  \n",
       "17          110.00        TEST  \n",
       "18          119.35        TEST  \n",
       "19          127.90        TEST  "
      ]
     },
     "execution_count": 2,
     "metadata": {},
     "output_type": "execute_result"
    }
   ],
   "source": [
    "import pandas as pd\n",
    "\n",
    "upload_file = \"data.csv\"\n",
    "data = pd.read_csv(\"data.csv\")\n",
    "data"
   ]
  },
  {
   "attachments": {},
   "cell_type": "markdown",
   "metadata": {},
   "source": [
    "## Import\n",
    "\n",
    "Let's now import the necessary classes to onboard the corpus."
   ]
  },
  {
   "cell_type": "code",
   "execution_count": 3,
   "metadata": {},
   "outputs": [],
   "source": [
    "from aixplain.enums import DataType, DataSubtype, Function, Language, License, StorageType\n",
    "from aixplain.factories import DatasetFactory\n",
    "from aixplain.modules import MetaData"
   ]
  },
  {
   "attachments": {},
   "cell_type": "markdown",
   "metadata": {},
   "source": [
    "## Metadata\n",
    "\n",
    "Besides the CSV file, a schema must be fed to the SDK giving some information about the input and output data to be onboarded, such as: \n",
    "\n",
    "1. Data Name\n",
    "2. Data Type: Audio, Text, Image, Video, Label, etc.\n",
    "3. Storage Type: whether the data is depicted in the CSV (Text), in a local file (File) or in a public link (URL)\n",
    "4. Start Column (optional): the column which depicts the beginning of the segment in the original file\n",
    "5. End Column (optional): the column which depicts the end of the segment in the original file\n",
    "6. Languages (optional): the languages depicted in the data"
   ]
  },
  {
   "attachments": {},
   "cell_type": "markdown",
   "metadata": {},
   "source": [
    "Let's instantiate the metadata for the audios:"
   ]
  },
  {
   "cell_type": "code",
   "execution_count": 4,
   "metadata": {},
   "outputs": [],
   "source": [
    "audio_meta = MetaData(\n",
    "    name=\"audio\", \n",
    "    dtype=\"audio\", \n",
    "    storage_type=\"url\", \n",
    "    start_column=\"audio_start_time\", \n",
    "    end_column=\"audio_end_time\", \n",
    "    languages=[Language.English_UNITED_STATES]\n",
    ")"
   ]
  },
  {
   "attachments": {},
   "cell_type": "markdown",
   "metadata": {},
   "source": [
    "Now for the text...\n",
    "\n",
    "(See how we can use enumerations instead of strings to specify some information)"
   ]
  },
  {
   "cell_type": "code",
   "execution_count": 5,
   "metadata": {},
   "outputs": [],
   "source": [
    "text_meta = MetaData(\n",
    "    name=\"text\", \n",
    "    dtype=DataType.TEXT, \n",
    "    storage_type=StorageType.TEXT, \n",
    "    languages=[Language.English_UNITED_STATES]\n",
    ")"
   ]
  },
  {
   "attachments": {},
   "cell_type": "markdown",
   "metadata": {},
   "source": [
    "Since we do have split information, let's also set a metadata for it..."
   ]
  },
  {
   "cell_type": "code",
   "execution_count": 6,
   "metadata": {},
   "outputs": [],
   "source": [
    "split_meta = MetaData(\n",
    "    name=\"split\", \n",
    "    dtype=DataType.LABEL, \n",
    "    dsubtype=DataSubtype.SPLIT,\n",
    "    storage_type=StorageType.TEXT, \n",
    ")"
   ]
  },
  {
   "attachments": {},
   "cell_type": "markdown",
   "metadata": {},
   "source": [
    "Let's now create the schemas for the input and output data of the dataset. Since this is a speech recognition dataset, the audios will be set as the input and the texts as the output data."
   ]
  },
  {
   "cell_type": "code",
   "execution_count": 7,
   "metadata": {},
   "outputs": [],
   "source": [
    "input_schema = [audio_meta]\n",
    "output_schema = [text_meta]\n",
    "meta_schema = [split_meta]"
   ]
  },
  {
   "attachments": {},
   "cell_type": "markdown",
   "metadata": {},
   "source": [
    "Finally we can called the `create` method to onboard the dataset, specifying the name, description, license, path to the content files and schemas. \n",
    "\n",
    "See that a Dataset ID will be provided as response together with the status of the onboarding process."
   ]
  },
  {
   "cell_type": "code",
   "execution_count": 8,
   "metadata": {},
   "outputs": [
    {
     "name": "stderr",
     "output_type": "stream",
     "text": [
      " Dataset's inputs onboard progress:   0%|          | 0/1 [00:00<?, ?it/s]\n",
      "\u001b[A\n",
      " Dataset's inputs onboard progress: 100%|██████████| 1/1 [00:00<00:00,  3.05it/s]\n",
      " Dataset's outputs onboard progress:   0%|          | 0/1 [00:00<?, ?it/s]\n",
      "\u001b[A\n",
      " Dataset's outputs onboard progress: 100%|██████████| 1/1 [00:00<00:00,  3.64it/s]\n",
      " Dataset's hypotheses onboard progress: 0it [00:00, ?it/s]\n",
      " Dataset's meta onboard progress:   0%|          | 0/1 [00:00<?, ?it/s]\n",
      "\u001b[A\n",
      " Dataset's meta onboard progress: 100%|██████████| 1/1 [00:00<00:00,  4.11it/s]\n"
     ]
    },
    {
     "name": "stdout",
     "output_type": "stream",
     "text": [
      "{'status': 'onboarding', 'asset_id': '645990e95235bd001267e130'}\n"
     ]
    }
   ],
   "source": [
    "payload = DatasetFactory.create(\n",
    "    name=\"dataset_onboarding_demo\",\n",
    "    description=\"This speech recognition dataset contains 20 English audios with their corresponding transcriptions.\",\n",
    "    license=License.MIT,\n",
    "    function=Function.SPEECH_RECOGNITION,\n",
    "    content_path=upload_file,\n",
    "    input_schema=input_schema,\n",
    "    output_schema=output_schema,\n",
    "    metadata_schema=meta_schema\n",
    ")\n",
    "print(payload)"
   ]
  },
  {
   "attachments": {},
   "cell_type": "markdown",
   "metadata": {},
   "source": [
    "You can then check the dataset using the `get` method."
   ]
  },
  {
   "cell_type": "code",
   "execution_count": 9,
   "metadata": {},
   "outputs": [
    {
     "data": {
      "text/plain": [
       "{'id': '645990e95235bd001267e130',\n",
       " 'name': 'dataset_onboarding_demo',\n",
       " 'description': 'This speech recognition dataset contains 20 English audios with their corresponding transcriptions.',\n",
       " 'supplier': 'aiXplain',\n",
       " 'version': '1.0',\n",
       " 'license': <License.MIT: '620ba3a83e2fa95c500b429d'>,\n",
       " 'privacy': <Privacy.PRIVATE: 'Private'>,\n",
       " 'onboard_status': <OnboardStatus.ONBOARDED: 'onboarded'>,\n",
       " 'function': <Function.SPEECH_RECOGNITION: 'speech-recognition'>,\n",
       " 'source_data': {'audio': <aixplain.modules.data.Data at 0x7f6e28ff0520>},\n",
       " 'target_data': {'text': [<aixplain.modules.data.Data at 0x7f6e28fbd220>]},\n",
       " 'hypotheses': {},\n",
       " 'metadata': {'split': <aixplain.modules.data.Data at 0x7f6e28ff0430>},\n",
       " 'tags': [],\n",
       " 'length': 19,\n",
       " 'kwargs': {}}"
      ]
     },
     "execution_count": 9,
     "metadata": {},
     "output_type": "execute_result"
    }
   ],
   "source": [
    "dataset = DatasetFactory.get(payload[\"asset_id\"])\n",
    "dataset.__dict__"
   ]
  }
 ],
 "metadata": {
  "kernelspec": {
   "display_name": "env",
   "language": "python",
   "name": "python3"
  },
  "language_info": {
   "codemirror_mode": {
    "name": "ipython",
    "version": 3
   },
   "file_extension": ".py",
   "mimetype": "text/x-python",
   "name": "python",
   "nbconvert_exporter": "python",
   "pygments_lexer": "ipython3",
   "version": "3.8.10"
  },
  "orig_nbformat": 4
 },
 "nbformat": 4,
 "nbformat_minor": 2
}
